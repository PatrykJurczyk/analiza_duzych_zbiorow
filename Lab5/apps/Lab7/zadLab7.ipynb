{
 "cells": [
  {
   "cell_type": "code",
   "execution_count": 1,
   "id": "a1b76caa-99b2-465b-b902-1dd6b8769d8d",
   "metadata": {},
   "outputs": [],
   "source": [
    "import findspark\n",
    "findspark.init()"
   ]
  },
  {
   "cell_type": "code",
   "execution_count": 2,
   "id": "79ce5c39-3575-4afa-83f8-c589e3110e39",
   "metadata": {},
   "outputs": [
    {
     "name": "stderr",
     "output_type": "stream",
     "text": [
      "Setting default log level to \"WARN\".\n",
      "To adjust logging level use sc.setLogLevel(newLevel). For SparkR, use setLogLevel(newLevel).\n",
      "24/12/17 16:15:32 WARN NativeCodeLoader: Unable to load native-hadoop library for your platform... using builtin-java classes where applicable\n"
     ]
    },
    {
     "data": {
      "text/html": [
       "\n",
       "        <div>\n",
       "            <p><b>SparkContext</b></p>\n",
       "\n",
       "            <p><a href=\"http://2069962cbd74:4040\">Spark UI</a></p>\n",
       "\n",
       "            <dl>\n",
       "              <dt>Version</dt>\n",
       "                <dd><code>v3.5.3</code></dd>\n",
       "              <dt>Master</dt>\n",
       "                <dd><code>local[2]</code></dd>\n",
       "              <dt>AppName</dt>\n",
       "                <dd><code>Apache SQL and Hive</code></dd>\n",
       "            </dl>\n",
       "        </div>\n",
       "        "
      ],
      "text/plain": [
       "<SparkContext master=local[2] appName=Apache SQL and Hive>"
      ]
     },
     "execution_count": 2,
     "metadata": {},
     "output_type": "execute_result"
    }
   ],
   "source": [
    "from pyspark.sql import SparkSession\n",
    "from pyspark.sql.functions import col, regexp_replace, trim, udf\n",
    "from pyspark.sql.types import FloatType\n",
    "import re\n",
    "\n",
    "# ścieżka do bazy danych hurtowni danych oraz plików\n",
    "# należy dostosować do ścieżki względnej, w której umieszczony został bieżący notebook\n",
    "warehouse_location = '/opt/spark/work-dir/Lab7/metastore_db'\n",
    "\n",
    "# utworzenie sesji Spark, ze wskazaniem włączenia obsługi Hive oraz\n",
    "# lokalizacją przechowywania hurtowni danych\n",
    "spark = SparkSession\\\n",
    "        .builder\\\n",
    "        .master(\"local[2]\")\\\n",
    "        .appName(\"Apache SQL and Hive\")\\\n",
    "        .config(\"spark.memory.offHeap.enabled\",\"true\")\\\n",
    "        .config(\"spark.memory.offHeap.size\",\"4g\")\\\n",
    "        .enableHiveSupport()\\\n",
    "        .config(\"spark.sql.warehouse.dir\", warehouse_location)\\\n",
    "        .getOrCreate()\n",
    "spark.sparkContext"
   ]
  },
  {
   "cell_type": "code",
   "execution_count": 3,
   "id": "c49e13f5-58b1-41fb-bf03-c5eb209396d4",
   "metadata": {},
   "outputs": [],
   "source": [
    "# Wczytanie pliku TXT\n",
    "df = spark.read.option(\"delimiter\", \";\").option(\"header\", \"true\").csv(\"zamowienia.txt\")"
   ]
  },
  {
   "cell_type": "code",
   "execution_count": 4,
   "id": "be66db1f-c89b-4ef8-86bb-754fc81f6240",
   "metadata": {},
   "outputs": [
    {
     "name": "stdout",
     "output_type": "stream",
     "text": [
      "['Kraj', 'Sprzedawca', 'Data zamowienia', 'idZamowienia', 'Utarg']\n"
     ]
    }
   ],
   "source": [
    "# Sprawdzenie nazw kolumn\n",
    "print(df.columns)"
   ]
  },
  {
   "cell_type": "code",
   "execution_count": 5,
   "id": "1292fa3b-3ecb-4370-88c7-11d15b51efa8",
   "metadata": {},
   "outputs": [],
   "source": [
    "# Naprawienie kodowania w kolumnie Sprzedawca\n",
    "df = df.withColumn(\"Sprzedawca\", regexp_replace(trim(col(\"Sprzedawca\")), \"[^\\\\x00-\\\\x7F]\", \"\"))"
   ]
  },
  {
   "cell_type": "code",
   "execution_count": 6,
   "id": "59a95120-57dd-487b-853e-5a711b5a5ca7",
   "metadata": {},
   "outputs": [],
   "source": [
    "# Funkcja do konwersji wartości Utarg z tekstu na liczbę float\n",
    "def convert_utarg(value):\n",
    "    # Usuwamy wszystkie niecyfrowe znaki poza przecinkiem i kropką\n",
    "    value = re.sub(r\"[^\\d,\\.]\", \"\", value)\n",
    "    # Zamieniamy przecinek na kropkę (dla konwersji na float)\n",
    "    value = value.replace(\",\", \".\")\n",
    "    try:\n",
    "        return float(value)\n",
    "    except ValueError:\n",
    "        return None"
   ]
  },
  {
   "cell_type": "code",
   "execution_count": 7,
   "id": "eb910309-d92c-477d-9d2e-a1458517d36c",
   "metadata": {},
   "outputs": [],
   "source": [
    "# Rejestrujemy funkcję UDF do użycia w Spark SQL\n",
    "convert_utarg_udf = udf(convert_utarg, FloatType())"
   ]
  },
  {
   "cell_type": "code",
   "execution_count": 8,
   "id": "cabad32e-7320-435b-aeb4-23469cb075f0",
   "metadata": {},
   "outputs": [],
   "source": [
    "# Poprawienie formatu kolumny Utarg\n",
    "df = df.withColumn(\"Utarg\", convert_utarg_udf(col(\"Utarg\")))"
   ]
  },
  {
   "cell_type": "code",
   "execution_count": 9,
   "id": "dbc0b933-a699-41be-a85b-598976487d51",
   "metadata": {},
   "outputs": [],
   "source": [
    "# Konwersja kolumny idZamowienia na typ Integer\n",
    "df = df.withColumn(\"idZamowienia\", col(\"idZamowienia\").cast(\"int\"))"
   ]
  },
  {
   "cell_type": "code",
   "execution_count": 10,
   "id": "e86ad811-393f-4017-aff8-6c02b79e3992",
   "metadata": {},
   "outputs": [
    {
     "name": "stderr",
     "output_type": "stream",
     "text": [
      "[Stage 1:>                                                          (0 + 1) / 1]"
     ]
    },
    {
     "name": "stdout",
     "output_type": "stream",
     "text": [
      "+------+----------+---------------+------------+------+\n",
      "|  Kraj|Sprzedawca|Data zamowienia|idZamowienia| Utarg|\n",
      "+------+----------+---------------+------------+------+\n",
      "|Polska|  Kowalski|     16.07.2003|       10248| 440.0|\n",
      "|Polska|   Sowiski|     10.07.2003|       10249|1863.4|\n",
      "|Niemcy|   Peacock|     12.07.2003|       10250|1552.6|\n",
      "|Niemcy| Leverling|     15.07.2003|       10251|654.06|\n",
      "|Niemcy|   Peacock|     11.07.2003|       10252|3597.9|\n",
      "|Niemcy| Leverling|     16.07.2003|       10253|1444.8|\n",
      "|Polska|  Kowalski|     23.07.2003|       10254|556.62|\n",
      "|Polska|     Dudek|     15.07.2003|       10255|2490.5|\n",
      "|Niemcy| Leverling|     17.07.2003|       10256| 517.8|\n",
      "|Niemcy|   Peacock|     22.07.2003|       10257|1119.9|\n",
      "+------+----------+---------------+------------+------+\n",
      "only showing top 10 rows\n",
      "\n"
     ]
    },
    {
     "name": "stderr",
     "output_type": "stream",
     "text": [
      "                                                                                "
     ]
    }
   ],
   "source": [
    "# Wyświetlenie przykładowych danych\n",
    "df.show(10)"
   ]
  },
  {
   "cell_type": "code",
   "execution_count": 11,
   "id": "8c6e7d29-eac2-4ad7-b080-1d913e883c10",
   "metadata": {},
   "outputs": [
    {
     "name": "stderr",
     "output_type": "stream",
     "text": [
      "24/12/17 16:15:40 WARN HiveConf: HiveConf of name hive.stats.jdbc.timeout does not exist\n",
      "24/12/17 16:15:40 WARN HiveConf: HiveConf of name hive.stats.retries.wait does not exist\n",
      "24/12/17 16:15:44 WARN ObjectStore: Version information not found in metastore. hive.metastore.schema.verification is not enabled so recording the schema version 2.3.0\n",
      "24/12/17 16:15:44 WARN ObjectStore: setMetaStoreSchemaVersion called but recording version is disabled: version = 2.3.0, comment = Set by MetaStore UNKNOWN@172.18.0.2\n",
      "24/12/17 16:15:44 WARN ObjectStore: Failed to get database default, returning NoSuchObjectException\n",
      "24/12/17 16:15:47 WARN SessionState: METASTORE_FILTER_HOOK will be ignored, since hive.security.authorization.manager is set to instance of HiveAuthorizerFactory.\n",
      "24/12/17 16:15:47 WARN HiveConf: HiveConf of name hive.internal.ss.authz.settings.applied.marker does not exist\n",
      "24/12/17 16:15:47 WARN HiveConf: HiveConf of name hive.stats.jdbc.timeout does not exist\n",
      "24/12/17 16:15:47 WARN HiveConf: HiveConf of name hive.stats.retries.wait does not exist\n",
      "24/12/17 16:15:47 WARN ObjectStore: Failed to get database global_temp, returning NoSuchObjectException\n"
     ]
    }
   ],
   "source": [
    "# Wiaderkowanie danych wg. kolumny 'Sprzedawca' z 4 wiadrami\n",
    "df.write.bucketBy(4, \"Sprzedawca\").sortBy(\"Sprzedawca\").saveAsTable(\"bucketed_orders\")"
   ]
  },
  {
   "cell_type": "code",
   "execution_count": 12,
   "id": "e05a5677-11ae-4af4-b758-b1ec82f97bba",
   "metadata": {},
   "outputs": [
    {
     "name": "stdout",
     "output_type": "stream",
     "text": [
      "metastore_db/bucketed_orders/part-00000-b69f6871-d1ec-4627-a287-2eeb7c6c8ea5_00000.c000.snappy.parquet\n",
      "metastore_db/bucketed_orders/part-00000-b69f6871-d1ec-4627-a287-2eeb7c6c8ea5_00001.c000.snappy.parquet\n",
      "metastore_db/bucketed_orders/part-00000-b69f6871-d1ec-4627-a287-2eeb7c6c8ea5_00003.c000.snappy.parquet\n"
     ]
    }
   ],
   "source": [
    "!ls metastore_db/bucketed_orders/*.parquet"
   ]
  },
  {
   "cell_type": "code",
   "execution_count": 13,
   "id": "d61057e5-3a19-4388-bfa4-90746a3de57a",
   "metadata": {},
   "outputs": [
    {
     "name": "stdout",
     "output_type": "stream",
     "text": [
      "+----------+-----------------+\n",
      "|Sprzedawca|       avg(Utarg)|\n",
      "+----------+-----------------+\n",
      "|  Kowalski|1637.910719916934|\n",
      "+----------+-----------------+\n",
      "\n"
     ]
    }
   ],
   "source": [
    "from pyspark.sql import functions as F\n",
    "import time\n",
    "\n",
    "# Czas zapytania agregującego na danych z wiaderkami\n",
    "start_time = time.time()\n",
    "df_bucketed = spark.table(\"bucketed_orders\")\n",
    "df_bucketed.filter(df_bucketed[\"Sprzedawca\"] == \"Kowalski\").groupby(\"Sprzedawca\").agg(F.avg(\"Utarg\")).show()\n",
    "bucketed_time = time.time() - start_time"
   ]
  },
  {
   "cell_type": "code",
   "execution_count": 14,
   "id": "9214643d-a5ef-4fd7-89ea-60b71fa2bb7e",
   "metadata": {},
   "outputs": [
    {
     "name": "stdout",
     "output_type": "stream",
     "text": [
      "+----------+-----------------+\n",
      "|Sprzedawca|       avg(Utarg)|\n",
      "+----------+-----------------+\n",
      "|  Kowalski|1637.910719916934|\n",
      "+----------+-----------------+\n",
      "\n"
     ]
    }
   ],
   "source": [
    "start_time = time.time()\n",
    "df.filter(df[\"Sprzedawca\"] == \"Kowalski\").groupby(\"Sprzedawca\").agg(F.avg(\"Utarg\")).show()\n",
    "non_bucketed_time = time.time() - start_time"
   ]
  },
  {
   "cell_type": "code",
   "execution_count": 15,
   "id": "15eb943c-dbcb-4339-85b8-89748a0ec508",
   "metadata": {},
   "outputs": [
    {
     "name": "stdout",
     "output_type": "stream",
     "text": [
      "Czas z wiaderkami: 1.400599718093872 sek.\n",
      "Czas bez wiaderków: 0.7759830951690674 sek.\n"
     ]
    }
   ],
   "source": [
    "print(f\"Czas z wiaderkami: {bucketed_time} sek.\")\n",
    "print(f\"Czas bez wiaderków: {non_bucketed_time} sek.\")"
   ]
  },
  {
   "cell_type": "code",
   "execution_count": 16,
   "id": "734fff74-d586-48c0-9f70-e541e453f2ae",
   "metadata": {},
   "outputs": [
    {
     "name": "stderr",
     "output_type": "stream",
     "text": [
      "                                                                                "
     ]
    }
   ],
   "source": [
    "# Partycjonowanie danych wg. kraju i nazwiska\n",
    "df.write.partitionBy(\"Kraj\", \"Sprzedawca\").csv(\"data_to_save\", header=True)"
   ]
  },
  {
   "cell_type": "code",
   "execution_count": 17,
   "id": "678148c5-71b5-40e2-a899-ced86794a978",
   "metadata": {},
   "outputs": [
    {
     "name": "stdout",
     "output_type": "stream",
     "text": [
      "+----------+------------------+\n",
      "|Sprzedawca|        avg(Utarg)|\n",
      "+----------+------------------+\n",
      "|      King|1745.7162600844654|\n",
      "|     Dudek|1830.4399899738592|\n",
      "|   Sowiski|1115.8096831688515|\n",
      "|  Kowalski| 1637.910719916934|\n",
      "+----------+------------------+\n",
      "\n"
     ]
    }
   ],
   "source": [
    "# Zapytanie agregujące na danych oryginalnych\n",
    "start_time = time.time()\n",
    "df.filter(df[\"Kraj\"] == \"Polska\").groupby(\"Sprzedawca\").agg(F.avg(\"Utarg\")).show()\n",
    "original_time = time.time() - start_time"
   ]
  },
  {
   "cell_type": "code",
   "execution_count": 18,
   "id": "852f835e-6eb7-48b9-9c2d-09dc7a20d07d",
   "metadata": {},
   "outputs": [],
   "source": [
    "# Załadowanie partycjonowanych danych\n",
    "df_partitioned = spark.read.option(\"delimiter\", \",\").csv(\"data_to_save\", header=True, inferSchema=True)"
   ]
  },
  {
   "cell_type": "code",
   "execution_count": 19,
   "id": "80b3fef1-e9d0-49ca-9be2-c196473af7d6",
   "metadata": {},
   "outputs": [
    {
     "name": "stdout",
     "output_type": "stream",
     "text": [
      "+----------+------------------+\n",
      "|Sprzedawca|        avg(Utarg)|\n",
      "+----------+------------------+\n",
      "|      King|1745.7162686567167|\n",
      "|   Sowiski|1115.8096923076926|\n",
      "|     Dudek|1830.4399999999998|\n",
      "|  Kowalski|1637.9107142857142|\n",
      "+----------+------------------+\n",
      "\n"
     ]
    }
   ],
   "source": [
    "# Zapytanie agregujące na danych partycjonowanych\n",
    "start_time = time.time()\n",
    "df_partitioned.filter(df_partitioned[\"Kraj\"] == \"Polska\").groupby(\"Sprzedawca\").agg(F.avg(\"Utarg\")).show()\n",
    "partitioned_time = time.time() - start_time"
   ]
  },
  {
   "cell_type": "code",
   "execution_count": 20,
   "id": "405a7255-02ed-4fb6-afcd-b9c7e39ed314",
   "metadata": {},
   "outputs": [
    {
     "name": "stdout",
     "output_type": "stream",
     "text": [
      "Czas na danych oryginalnych: 0.4467952251434326 sek.\n",
      "Czas na danych partycjonowanych: 0.4262104034423828 sek.\n"
     ]
    }
   ],
   "source": [
    "# Porównanie czasów\n",
    "print(f\"Czas na danych oryginalnych: {original_time} sek.\")\n",
    "print(f\"Czas na danych partycjonowanych: {partitioned_time} sek.\")"
   ]
  },
  {
   "cell_type": "code",
   "execution_count": 21,
   "id": "6ac571cf-0932-4f0d-b9b9-c2ed03541343",
   "metadata": {},
   "outputs": [
    {
     "name": "stdout",
     "output_type": "stream",
     "text": [
      "+------+----------+---------------+------------+------+\n",
      "|  Kraj|Sprzedawca|Data zamowienia|idZamowienia| Utarg|\n",
      "+------+----------+---------------+------------+------+\n",
      "|Polska|  Kowalski|     16.07.2003|       10248| 440.0|\n",
      "|Polska|   Sowiski|     10.07.2003|       10249|1863.4|\n",
      "|Niemcy|   Peacock|     12.07.2003|       10250|1552.6|\n",
      "|Niemcy| Leverling|     15.07.2003|       10251|654.06|\n",
      "|Niemcy|   Peacock|     11.07.2003|       10252|3597.9|\n",
      "+------+----------+---------------+------------+------+\n",
      "only showing top 5 rows\n",
      "\n"
     ]
    }
   ],
   "source": [
    "df.show(5)"
   ]
  },
  {
   "cell_type": "code",
   "execution_count": 22,
   "id": "d18003ae-21e2-4f8d-8101-d8193abc7fe8",
   "metadata": {},
   "outputs": [],
   "source": [
    "# 2.1. Generowanie 4 próbek\n",
    "sample1 = df.sample(False, 0.1)\n",
    "sample2 = df.sample(False, 0.1)\n",
    "sample3 = df.sample(False, 0.1)\n",
    "sample4 = df.sample(False, 0.1)"
   ]
  },
  {
   "cell_type": "code",
   "execution_count": 23,
   "id": "bd0aff98-11d0-4d0d-a8b7-dc688947193d",
   "metadata": {},
   "outputs": [],
   "source": [
    "sample1 = sample1.withColumn(\"month\", F.month(F.to_date(\"Data zamowienia\", \"dd.MM.yyyy\")))"
   ]
  },
  {
   "cell_type": "code",
   "execution_count": 24,
   "id": "ad2cdba4-27f3-4272-9b7c-37bf77ebaf6c",
   "metadata": {},
   "outputs": [],
   "source": [
    "sample2 = sample2.withColumn(\"net_value\", F.col(\"Utarg\").cast(\"float\") / 1.23)"
   ]
  },
  {
   "cell_type": "code",
   "execution_count": 25,
   "id": "5a38ecfb-27be-4a03-8557-b3450d560ba1",
   "metadata": {},
   "outputs": [],
   "source": [
    "sample3 = sample3.withColumn(\"Sprzedawca\", F.upper(F.col(\"Sprzedawca\")))"
   ]
  },
  {
   "cell_type": "code",
   "execution_count": 26,
   "id": "f810fe9c-160f-4485-ac3a-d01ea9fb3e10",
   "metadata": {},
   "outputs": [],
   "source": [
    "sample4 = sample4.withColumn(\"currency\", F.lit(\"PLN\"))"
   ]
  },
  {
   "cell_type": "code",
   "execution_count": 27,
   "id": "524444f8-9368-4173-b437-afd67d2db31a",
   "metadata": {},
   "outputs": [
    {
     "name": "stdout",
     "output_type": "stream",
     "text": [
      "+------+----------+---------------+------------+------+-----+\n",
      "|  Kraj|Sprzedawca|Data zamowienia|idZamowienia| Utarg|month|\n",
      "+------+----------+---------------+------------+------+-----+\n",
      "|Polska|  Kowalski|     16.07.2003|       10248| 440.0|    7|\n",
      "|Polska|  Kowalski|     23.07.2003|       10254|556.62|    7|\n",
      "|Niemcy|   Peacock|     22.07.2003|       10257|1119.9|    7|\n",
      "|Polska|  Kowalski|     09.08.2003|       10269| 642.2|    8|\n",
      "|Niemcy|    Fuller|     13.08.2003|       10277|1200.8|    8|\n",
      "+------+----------+---------------+------------+------+-----+\n",
      "only showing top 5 rows\n",
      "\n",
      "+------+----------+---------------+------------+-------+------------------+\n",
      "|  Kraj|Sprzedawca|Data zamowienia|idZamowienia|  Utarg|         net_value|\n",
      "+------+----------+---------------+------------+-------+------------------+\n",
      "|Niemcy|   Peacock|     22.07.2003|       10257| 1119.9| 910.4878247268801|\n",
      "|Niemcy|   Davolio|     23.07.2003|       10258|1614.88|1312.9105730754573|\n",
      "|Niemcy|   Peacock|     30.07.2003|       10261|  448.0| 364.2276422764228|\n",
      "|Niemcy|  Callahan|     25.07.2003|       10262|  584.0| 474.7967479674797|\n",
      "|Polska|     Dudek|     31.07.2003|       10263| 1873.8| 1523.414673844004|\n",
      "+------+----------+---------------+------------+-------+------------------+\n",
      "only showing top 5 rows\n",
      "\n",
      "+------+----------+---------------+------------+------+\n",
      "|  Kraj|Sprzedawca|Data zamowienia|idZamowienia| Utarg|\n",
      "+------+----------+---------------+------------+------+\n",
      "|Niemcy|   PEACOCK|     21.08.2003|       10282| 155.4|\n",
      "|Polska|  KOWALSKI|     10.09.2003|       10297|1420.0|\n",
      "|Niemcy|    FULLER|     18.09.2003|       10300| 608.0|\n",
      "|Niemcy|   PEACOCK|     03.10.2003|       10315| 516.8|\n",
      "|Polska|  KOWALSKI|     18.10.2003|       10320| 516.0|\n",
      "+------+----------+---------------+------------+------+\n",
      "only showing top 5 rows\n",
      "\n",
      "+------+----------+---------------+------------+-------+--------+\n",
      "|  Kraj|Sprzedawca|Data zamowienia|idZamowienia|  Utarg|currency|\n",
      "+------+----------+---------------+------------+-------+--------+\n",
      "|Niemcy| Leverling|     16.07.2003|       10253| 1444.8|     PLN|\n",
      "|Niemcy| Leverling|     31.07.2003|       10266| 346.56|     PLN|\n",
      "|Niemcy|  Callahan|     16.08.2003|       10278| 1488.8|     PLN|\n",
      "|Niemcy|   Peacock|     27.08.2003|       10284|1170.37|     PLN|\n",
      "|Polska|   Sowiski|     11.09.2003|       10298| 2645.0|     PLN|\n",
      "+------+----------+---------------+------------+-------+--------+\n",
      "only showing top 5 rows\n",
      "\n"
     ]
    }
   ],
   "source": [
    "sample1.show(5)\n",
    "sample2.show(5)\n",
    "sample3.show(5)\n",
    "sample4.show(5)"
   ]
  },
  {
   "cell_type": "code",
   "execution_count": 28,
   "id": "80087136-23fe-4cb5-aeb7-c3d188a97006",
   "metadata": {},
   "outputs": [],
   "source": [
    "sample1.createOrReplaceTempView(\"sample1_temp_table\")"
   ]
  },
  {
   "cell_type": "code",
   "execution_count": 29,
   "id": "479482e2-f2a9-47df-b0ba-82ed6c7cdc89",
   "metadata": {},
   "outputs": [],
   "source": [
    "sample2.write.parquet(\"sample2.parquet\")"
   ]
  },
  {
   "cell_type": "code",
   "execution_count": 30,
   "id": "37480a81-eb4c-4cac-bc52-d9e5c422a888",
   "metadata": {},
   "outputs": [],
   "source": [
    "sample3.write.option(\"header\", \"true\").csv(\"sample3.csv\")"
   ]
  },
  {
   "cell_type": "code",
   "execution_count": 31,
   "id": "7b9fa329-10c4-443b-a7a2-b92796a36631",
   "metadata": {},
   "outputs": [],
   "source": [
    "sample4.write.json(\"sample4.json\")"
   ]
  },
  {
   "cell_type": "code",
   "execution_count": 33,
   "id": "57eabbd5-9d95-4859-9a23-cf89e6ee3ba2",
   "metadata": {},
   "outputs": [
    {
     "name": "stdout",
     "output_type": "stream",
     "text": [
      "+------------+----+----------+---------------+-----+-----+---------+--------+\n",
      "|idZamowienia|Kraj|Sprzedawca|Data zamowienia|Utarg|month|net_value|currency|\n",
      "+------------+----+----------+---------------+-----+-----+---------+--------+\n",
      "+------------+----+----------+---------------+-----+-----+---------+--------+\n",
      "\n"
     ]
    }
   ],
   "source": [
    "# Wczytanie danych z aliasami\n",
    "df_parquet = spark.read.parquet(\"sample2.parquet\").alias(\"parquet\")\n",
    "df_csv = spark.read.option(\"header\", \"true\").csv(\"sample3.csv\").alias(\"csv\")\n",
    "df_json = spark.read.json(\"sample4.json\").alias(\"json\")\n",
    "df_temp = spark.table(\"sample1_temp_table\").alias(\"temp\")\n",
    "\n",
    "# Złączenie danych\n",
    "joined_df = df_parquet.join(df_csv, on=[\"idZamowienia\"], how=\"inner\") \\\n",
    "                      .join(df_json, on=[\"idZamowienia\"], how=\"inner\") \\\n",
    "                      .join(df_temp, on=[\"idZamowienia\"], how=\"inner\")\n",
    "\n",
    "# Wyświetlenie wyników z wyraźnym wskazaniem tabel\n",
    "joined_df.select(\n",
    "    \"parquet.idZamowienia\",\n",
    "    \"parquet.Kraj\",\n",
    "    \"csv.Sprzedawca\",\n",
    "    \"temp.`Data zamowienia`\",\n",
    "    \"parquet.Utarg\",\n",
    "    \"temp.month\",\n",
    "    \"parquet.net_value\",\n",
    "    \"json.currency\"\n",
    ").show()\n"
   ]
  },
  {
   "cell_type": "code",
   "execution_count": null,
   "id": "8f9fe16f-103e-43bf-a359-b35157d360af",
   "metadata": {},
   "outputs": [],
   "source": []
  }
 ],
 "metadata": {
  "kernelspec": {
   "display_name": "Python 3 (ipykernel)",
   "language": "python",
   "name": "python3"
  },
  "language_info": {
   "codemirror_mode": {
    "name": "ipython",
    "version": 3
   },
   "file_extension": ".py",
   "mimetype": "text/x-python",
   "name": "python",
   "nbconvert_exporter": "python",
   "pygments_lexer": "ipython3",
   "version": "3.10.12"
  }
 },
 "nbformat": 4,
 "nbformat_minor": 5
}
