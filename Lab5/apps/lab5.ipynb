{
 "cells": [
  {
   "cell_type": "code",
   "execution_count": 3,
   "id": "f02b2167-2130-4bd4-b408-0805ab654f1f",
   "metadata": {},
   "outputs": [],
   "source": [
    "import os\n",
    "os.environ['SPARK_NAME'] = \"/opt/spark\"\n",
    "# os.environ['PYSPARK_DRIVER_PYTHON'] = 'jupyter'\n",
    "os.environ['PYSPARK_DRIVER_PYTHON_OPTS'] = 'lab'\n",
    "# os.environ['PYSPARK_PYTHON'] = 'python'\n",
    "os.environ['PYSPARK_DRIVER_PYTHON'] = '/opt/spark/work-dir/.venv/bin/python3'\n",
    "os.environ['PYSPARK_PYTHON'] = '/opt/spark/work-dir/.venv/bin/python3'"
   ]
  },
  {
   "cell_type": "code",
   "execution_count": 4,
   "id": "170765ef-af00-4c99-9e6f-0eb589172e53",
   "metadata": {},
   "outputs": [
    {
     "name": "stderr",
     "output_type": "stream",
     "text": [
      "Setting default log level to \"WARN\".\n",
      "To adjust logging level use sc.setLogLevel(newLevel). For SparkR, use setLogLevel(newLevel).\n",
      "24/12/16 13:50:23 WARN NativeCodeLoader: Unable to load native-hadoop library for your platform... using builtin-java classes where applicable\n",
      "24/12/16 13:50:24 WARN Utils: Service 'SparkUI' could not bind on port 4040. Attempting port 4041.\n"
     ]
    },
    {
     "data": {
      "text/html": [
       "\n",
       "        <div>\n",
       "            <p><b>SparkContext</b></p>\n",
       "\n",
       "            <p><a href=\"http://2069962cbd74:4041\">Spark UI</a></p>\n",
       "\n",
       "            <dl>\n",
       "              <dt>Version</dt>\n",
       "                <dd><code>v3.5.3</code></dd>\n",
       "              <dt>Master</dt>\n",
       "                <dd><code>local[2]</code></dd>\n",
       "              <dt>AppName</dt>\n",
       "                <dd><code>Create-DataFrame</code></dd>\n",
       "            </dl>\n",
       "        </div>\n",
       "        "
      ],
      "text/plain": [
       "<SparkContext master=local[2] appName=Create-DataFrame>"
      ]
     },
     "execution_count": 4,
     "metadata": {},
     "output_type": "execute_result"
    }
   ],
   "source": [
    "from pyspark.sql import SparkSession\n",
    "\n",
    "# spark = SparkSession.builder.master(\"spark://spark-master:7077\").appName(\"Create-DataFrame\").getOrCreate()\n",
    "# konfiguracja z określeniem liczby wątków (2) oraz ilości pamięci do wykorzystania poza stertą interpretera Pythona\n",
    "spark = SparkSession\\\n",
    "        .builder\\\n",
    "        .master(\"local[2]\")\\\n",
    "        .appName(\"Create-DataFrame\")\\\n",
    "        .config(\"spark.memory.offHeap.enabled\",\"true\")\\\n",
    "        .config(\"spark.memory.offHeap.size\",\"4g\")\\\n",
    "        .getOrCreate()\n",
    "spark.sparkContext"
   ]
  },
  {
   "cell_type": "code",
   "execution_count": 5,
   "id": "ca528d08-b8cb-4fc7-9907-d0c722b17f26",
   "metadata": {},
   "outputs": [
    {
     "name": "stderr",
     "output_type": "stream",
     "text": [
      "[Stage 0:>                                                          (0 + 2) / 2]"
     ]
    },
    {
     "name": "stdout",
     "output_type": "stream",
     "text": [
      "Liczba linii zawierających słowo 'Tadeusz': 182\n"
     ]
    },
    {
     "name": "stderr",
     "output_type": "stream",
     "text": [
      "                                                                                "
     ]
    }
   ],
   "source": [
    "sc = spark.sparkContext\n",
    "\n",
    "# Wczytanie pliku do RDD\n",
    "pan_tadeusz_file = sc.textFile(\"pan-tadeusz.txt\")\n",
    "\n",
    "# Transformacja: filtrujemy linie zawierające słowo 'Tadeusz'\n",
    "lines_with_tadeusz = pan_tadeusz_file.filter(lambda line: 'Tadeusz' in line)\n",
    "\n",
    "# Akcja: liczymy liczbę takich linii\n",
    "count_tadeusz_lines = lines_with_tadeusz.count()\n",
    "\n",
    "print(f\"Liczba linii zawierających słowo 'Tadeusz': {count_tadeusz_lines}\")"
   ]
  },
  {
   "cell_type": "code",
   "execution_count": 6,
   "id": "e1a4c95d-f3fe-40eb-8975-faed9db329da",
   "metadata": {},
   "outputs": [
    {
     "name": "stdout",
     "output_type": "stream",
     "text": [
      "Trzy najdłuższe linie:\n",
      "536 characters: O niebezpieczeństwach wynikających z nieporządnego obozowania — Odsiecz niespodziana — Smutne położenie szlachty — Odwiedziny kwestarskie są wróżbą ratunku — Major Płut zbytnią zalotnością ściąga na siebie burzę — Wystrzał z krócicy, hasło boju — Czyny Kropiciela, czyny i niebezpieczeństwa Maćka — Konewka zasadzką ocala Soplicowo — Posiłki jezdne, atak na piechotę — Czyny Tadeusza — Pojedynek dowódców przerwany zdradą — Wojski stanowczym manewrem przechyla szalę boju — Czyny krwawe Gerwazego — Podkomorzy zwycięzca wspaniałomyślny.\n",
      "452 characters: Plany myśliwskie Telimeny — Ogrodniczka wybiera się na wielki świat i słucha nauk opiekunki — Strzelcy wracają — Wielkie zadziwienie Tadeusza — Spotkanie się powtórne w Świątyni dumania i zgoda ułatwiona za pośrednictwem mrówek — U stołu wytacza się rzecz o łowach — Powieść Wojskiego o Rejtanie i księciu Denassów, przerwana — Zagajenie układów między stronami, także przerwane — Zjawisko z kluczem — Kłótnia — Hrabia z Gerwazym odbywają radę wojenną.\n",
      "438 characters: Zjawisko w papilotach budzi Tadeusza — Za późne postrzeżenie omyłki — Karczma — Emisariusz — Zręczne użycie tabakiery zwraca dyskusję na właściwą drogę — Matecznik — Niedźwiedź — Niebezpieczeństwo Tadeusza i Hrabiego — Trzy strzały — Spór Sagalasówki z Sanguszkówką rozstrzygniony na stronę jednorurki horeszkowskiej — Bigos — Wojskiego powieść o pojedynku Doweyki z Domeyką przerwana szczuciem kota — Koniec powieści o Doweyce i Domeyce.\n"
     ]
    }
   ],
   "source": [
    "# Transformacja: mapujemy każdą linię na jej długość\n",
    "lines_with_length = pan_tadeusz_file.map(lambda line: (len(line), line))\n",
    "\n",
    "# Akcja: wybieramy 3 najdłuższe linie\n",
    "top_3_lines = lines_with_length.top(3)\n",
    "\n",
    "# Wyświetlamy 3 najdłuższe linie\n",
    "print(\"Trzy najdłuższe linie:\")\n",
    "for length, line in top_3_lines:\n",
    "    print(f\"{length} characters: {line}\")"
   ]
  },
  {
   "cell_type": "code",
   "execution_count": 12,
   "id": "43425edd-9d5c-412e-9d8f-2aabea99d589",
   "metadata": {},
   "outputs": [
    {
     "name": "stdout",
     "output_type": "stream",
     "text": [
      "Najczęściej występujące słowo: 'rzekł' z 155 wystąpieniami.\n"
     ]
    }
   ],
   "source": [
    "import re\n",
    "import json\n",
    "\n",
    "# Wczytanie pliku do RDD\n",
    "pan_tadeusz_file = sc.textFile(\"pan-tadeusz.txt\")\n",
    "\n",
    "# Wczytanie listy stopwords\n",
    "stopwords = sc.textFile(\"polish.stopwords.txt\").collect()  # Zbieramy stopwords w postaci listy\n",
    "\n",
    "# Zamieniamy listę stopwords na zbiór dla szybszego sprawdzania przynależności\n",
    "stopwords_set = set(stopwords)\n",
    "\n",
    "# Funkcja czyszcząca tekst: usuwa znaki przestankowe i stopwords\n",
    "def clean_text(line):\n",
    "    # Usuwamy znaki przestankowe\n",
    "    line = re.sub(r'[^\\w\\s]', '', line.lower())\n",
    "    # Dzielimy tekst na słowa\n",
    "    words = line.split()\n",
    "    # Filtrujemy słowa, usuwając stopwords\n",
    "    return [word for word in words if word not in stopwords_set]\n",
    "\n",
    "# Transformacja: czyszczenie linii i spłaszczanie wyników do listy słów\n",
    "words_rdd = pan_tadeusz_file.flatMap(clean_text)\n",
    "\n",
    "# Akcja: liczymy wystąpienia słów (wywołana po wszystkich transformacjach)\n",
    "word_counts = words_rdd.countByValue()\n",
    "\n",
    "# Zapisz wynik do pliku JSON\n",
    "with open(\"pan_tadeusz_bag_of_words.json\", \"w\") as f:\n",
    "    json.dump(word_counts, f)\n",
    "\n",
    "# Najczęściej występujące słowo\n",
    "most_frequent_word = max(word_counts, key=word_counts.get)\n",
    "print(f\"Najczęściej występujące słowo: '{most_frequent_word}' z {word_counts[most_frequent_word]} wystąpieniami.\")\n"
   ]
  },
  {
   "cell_type": "code",
   "execution_count": null,
   "id": "f856a6e5-a7ef-4157-99bb-f54432f34162",
   "metadata": {},
   "outputs": [],
   "source": []
  }
 ],
 "metadata": {
  "kernelspec": {
   "display_name": "Python 3 (ipykernel)",
   "language": "python",
   "name": "python3"
  },
  "language_info": {
   "codemirror_mode": {
    "name": "ipython",
    "version": 3
   },
   "file_extension": ".py",
   "mimetype": "text/x-python",
   "name": "python",
   "nbconvert_exporter": "python",
   "pygments_lexer": "ipython3",
   "version": "3.10.12"
  }
 },
 "nbformat": 4,
 "nbformat_minor": 5
}
