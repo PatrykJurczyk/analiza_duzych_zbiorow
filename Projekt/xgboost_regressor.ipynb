{
 "cells": [
  {
   "cell_type": "code",
   "execution_count": 1,
   "metadata": {},
   "outputs": [],
   "source": [
    "# Importowanie wymaganych bibliotek\n",
    "from xgboost import DMatrix, XGBRegressor, cv\n",
    "from sklearn.model_selection import train_test_split\n",
    "from sklearn.metrics import mean_absolute_error, mean_squared_error, r2_score\n",
    "import dask.dataframe as dd\n",
    "import numpy as np\n",
    "from dask.distributed import Client, LocalCluster\n",
    "import matplotlib.pyplot as plt\n",
    "import pickle\n",
    "import os"
   ]
  },
  {
   "cell_type": "code",
   "execution_count": 2,
   "metadata": {},
   "outputs": [
    {
     "name": "stdout",
     "output_type": "stream",
     "text": [
      "<Client: 'tcp://127.0.0.1:50880' processes=4 threads=12, memory=18.63 GiB>\n"
     ]
    }
   ],
   "source": [
    "# Utworzenie lokalnych klasterów z 4 workerami\n",
    "cluster = LocalCluster(n_workers=4, threads_per_worker=3, memory_limit=\"5GB\")\n",
    "\n",
    "# Łączymy się z klastrem\n",
    "client = Client(cluster)\n",
    "\n",
    "# Sprawdzamy status klastra\n",
    "print(client)"
   ]
  },
  {
   "cell_type": "code",
   "execution_count": 3,
   "metadata": {},
   "outputs": [
    {
     "data": {
      "text/html": [
       "<div>\n",
       "<style scoped>\n",
       "    .dataframe tbody tr th:only-of-type {\n",
       "        vertical-align: middle;\n",
       "    }\n",
       "\n",
       "    .dataframe tbody tr th {\n",
       "        vertical-align: top;\n",
       "    }\n",
       "\n",
       "    .dataframe thead th {\n",
       "        text-align: right;\n",
       "    }\n",
       "</style>\n",
       "<table border=\"1\" class=\"dataframe\">\n",
       "  <thead>\n",
       "    <tr style=\"text-align: right;\">\n",
       "      <th></th>\n",
       "      <th>VendorID</th>\n",
       "      <th>tpep_pickup_datetime</th>\n",
       "      <th>tpep_dropoff_datetime</th>\n",
       "      <th>passenger_count</th>\n",
       "      <th>trip_distance</th>\n",
       "      <th>RatecodeID</th>\n",
       "      <th>store_and_fwd_flag</th>\n",
       "      <th>PULocationID</th>\n",
       "      <th>DOLocationID</th>\n",
       "      <th>payment_type</th>\n",
       "      <th>...</th>\n",
       "      <th>extra</th>\n",
       "      <th>mta_tax</th>\n",
       "      <th>tip_amount</th>\n",
       "      <th>tolls_amount</th>\n",
       "      <th>improvement_surcharge</th>\n",
       "      <th>total_amount</th>\n",
       "      <th>congestion_surcharge</th>\n",
       "      <th>Airport_fee</th>\n",
       "      <th>trip_duration</th>\n",
       "      <th>hour</th>\n",
       "    </tr>\n",
       "  </thead>\n",
       "  <tbody>\n",
       "    <tr>\n",
       "      <th>0</th>\n",
       "      <td>2</td>\n",
       "      <td>2023-01-01 00:55:08</td>\n",
       "      <td>2023-01-01 01:01:27</td>\n",
       "      <td>1.0</td>\n",
       "      <td>1.10</td>\n",
       "      <td>1.0</td>\n",
       "      <td>N</td>\n",
       "      <td>43</td>\n",
       "      <td>237</td>\n",
       "      <td>1</td>\n",
       "      <td>...</td>\n",
       "      <td>1.0</td>\n",
       "      <td>0.5</td>\n",
       "      <td>4.00</td>\n",
       "      <td>0.0</td>\n",
       "      <td>1.0</td>\n",
       "      <td>16.90</td>\n",
       "      <td>2.5</td>\n",
       "      <td>0.0</td>\n",
       "      <td>379.0</td>\n",
       "      <td>0</td>\n",
       "    </tr>\n",
       "    <tr>\n",
       "      <th>1</th>\n",
       "      <td>2</td>\n",
       "      <td>2023-01-01 00:25:04</td>\n",
       "      <td>2023-01-01 00:37:49</td>\n",
       "      <td>1.0</td>\n",
       "      <td>2.51</td>\n",
       "      <td>1.0</td>\n",
       "      <td>N</td>\n",
       "      <td>48</td>\n",
       "      <td>238</td>\n",
       "      <td>1</td>\n",
       "      <td>...</td>\n",
       "      <td>1.0</td>\n",
       "      <td>0.5</td>\n",
       "      <td>15.00</td>\n",
       "      <td>0.0</td>\n",
       "      <td>1.0</td>\n",
       "      <td>34.90</td>\n",
       "      <td>2.5</td>\n",
       "      <td>0.0</td>\n",
       "      <td>765.0</td>\n",
       "      <td>0</td>\n",
       "    </tr>\n",
       "    <tr>\n",
       "      <th>2</th>\n",
       "      <td>2</td>\n",
       "      <td>2023-01-01 00:10:29</td>\n",
       "      <td>2023-01-01 00:21:19</td>\n",
       "      <td>1.0</td>\n",
       "      <td>1.43</td>\n",
       "      <td>1.0</td>\n",
       "      <td>N</td>\n",
       "      <td>107</td>\n",
       "      <td>79</td>\n",
       "      <td>1</td>\n",
       "      <td>...</td>\n",
       "      <td>1.0</td>\n",
       "      <td>0.5</td>\n",
       "      <td>3.28</td>\n",
       "      <td>0.0</td>\n",
       "      <td>1.0</td>\n",
       "      <td>19.68</td>\n",
       "      <td>2.5</td>\n",
       "      <td>0.0</td>\n",
       "      <td>650.0</td>\n",
       "      <td>0</td>\n",
       "    </tr>\n",
       "    <tr>\n",
       "      <th>3</th>\n",
       "      <td>2</td>\n",
       "      <td>2023-01-01 00:50:34</td>\n",
       "      <td>2023-01-01 01:02:52</td>\n",
       "      <td>1.0</td>\n",
       "      <td>1.84</td>\n",
       "      <td>1.0</td>\n",
       "      <td>N</td>\n",
       "      <td>161</td>\n",
       "      <td>137</td>\n",
       "      <td>1</td>\n",
       "      <td>...</td>\n",
       "      <td>1.0</td>\n",
       "      <td>0.5</td>\n",
       "      <td>10.00</td>\n",
       "      <td>0.0</td>\n",
       "      <td>1.0</td>\n",
       "      <td>27.80</td>\n",
       "      <td>2.5</td>\n",
       "      <td>0.0</td>\n",
       "      <td>738.0</td>\n",
       "      <td>0</td>\n",
       "    </tr>\n",
       "    <tr>\n",
       "      <th>4</th>\n",
       "      <td>2</td>\n",
       "      <td>2023-01-01 00:09:22</td>\n",
       "      <td>2023-01-01 00:19:49</td>\n",
       "      <td>1.0</td>\n",
       "      <td>1.66</td>\n",
       "      <td>1.0</td>\n",
       "      <td>N</td>\n",
       "      <td>239</td>\n",
       "      <td>143</td>\n",
       "      <td>1</td>\n",
       "      <td>...</td>\n",
       "      <td>1.0</td>\n",
       "      <td>0.5</td>\n",
       "      <td>3.42</td>\n",
       "      <td>0.0</td>\n",
       "      <td>1.0</td>\n",
       "      <td>20.52</td>\n",
       "      <td>2.5</td>\n",
       "      <td>0.0</td>\n",
       "      <td>627.0</td>\n",
       "      <td>0</td>\n",
       "    </tr>\n",
       "  </tbody>\n",
       "</table>\n",
       "<p>5 rows × 21 columns</p>\n",
       "</div>"
      ],
      "text/plain": [
       "   VendorID tpep_pickup_datetime tpep_dropoff_datetime  passenger_count  \\\n",
       "0         2  2023-01-01 00:55:08   2023-01-01 01:01:27              1.0   \n",
       "1         2  2023-01-01 00:25:04   2023-01-01 00:37:49              1.0   \n",
       "2         2  2023-01-01 00:10:29   2023-01-01 00:21:19              1.0   \n",
       "3         2  2023-01-01 00:50:34   2023-01-01 01:02:52              1.0   \n",
       "4         2  2023-01-01 00:09:22   2023-01-01 00:19:49              1.0   \n",
       "\n",
       "   trip_distance  RatecodeID store_and_fwd_flag  PULocationID  DOLocationID  \\\n",
       "0           1.10         1.0                  N            43           237   \n",
       "1           2.51         1.0                  N            48           238   \n",
       "2           1.43         1.0                  N           107            79   \n",
       "3           1.84         1.0                  N           161           137   \n",
       "4           1.66         1.0                  N           239           143   \n",
       "\n",
       "   payment_type  ...  extra  mta_tax  tip_amount  tolls_amount  \\\n",
       "0             1  ...    1.0      0.5        4.00           0.0   \n",
       "1             1  ...    1.0      0.5       15.00           0.0   \n",
       "2             1  ...    1.0      0.5        3.28           0.0   \n",
       "3             1  ...    1.0      0.5       10.00           0.0   \n",
       "4             1  ...    1.0      0.5        3.42           0.0   \n",
       "\n",
       "   improvement_surcharge  total_amount  congestion_surcharge  Airport_fee  \\\n",
       "0                    1.0         16.90                   2.5          0.0   \n",
       "1                    1.0         34.90                   2.5          0.0   \n",
       "2                    1.0         19.68                   2.5          0.0   \n",
       "3                    1.0         27.80                   2.5          0.0   \n",
       "4                    1.0         20.52                   2.5          0.0   \n",
       "\n",
       "   trip_duration  hour  \n",
       "0          379.0     0  \n",
       "1          765.0     0  \n",
       "2          650.0     0  \n",
       "3          738.0     0  \n",
       "4          627.0     0  \n",
       "\n",
       "[5 rows x 21 columns]"
      ]
     },
     "execution_count": 3,
     "metadata": {},
     "output_type": "execute_result"
    }
   ],
   "source": [
    "# Ładujemy dane\n",
    "df = dd.read_parquet('output_directory/*.parquet')\n",
    "\n",
    "# Sprawdzamy pierwsze wiersze\n",
    "df.head()"
   ]
  },
  {
   "cell_type": "code",
   "execution_count": 4,
   "metadata": {},
   "outputs": [],
   "source": [
    "# Wybieramy 1% danych losowo\n",
    "df_sample = df.sample(frac=0.01, random_state=42)"
   ]
  },
  {
   "cell_type": "code",
   "execution_count": 5,
   "metadata": {},
   "outputs": [],
   "source": [
    "# # Wybieramy cechy i cel dla x%\n",
    "# X = df_sample[['trip_distance', 'fare_amount', 'passenger_count', 'hour', 'payment_type', 'RatecodeID', 'trip_duration']]  \n",
    "# y = df_sample['tip_amount']  # cel (napiwek)\n",
    "\n",
    "# Wybieramy cechy i cel dla 100%\n",
    "X = df[['trip_distance', 'fare_amount', 'passenger_count', 'hour', 'payment_type', 'RatecodeID', 'trip_duration']]  \n",
    "y = df['tip_amount']  # cel (napiwek)"
   ]
  },
  {
   "cell_type": "code",
   "execution_count": 6,
   "metadata": {},
   "outputs": [
    {
     "name": "stdout",
     "output_type": "stream",
     "text": [
      "Liczba rekordów: 13951964\n"
     ]
    }
   ],
   "source": [
    "# # Sprawdzamy liczbę rekordów dla x%\n",
    "# print(f\"Liczba rekordów: {len(df_sample)}\")\n",
    "\n",
    "# Sprawdzamy liczbę rekordów dla 100%\n",
    "print(f\"Liczba rekordów: {len(df)}\")"
   ]
  },
  {
   "cell_type": "code",
   "execution_count": 7,
   "metadata": {},
   "outputs": [
    {
     "name": "stdout",
     "output_type": "stream",
     "text": [
      "Treningowy X: (11161571, 7), Testowy X: (2790393, 7)\n"
     ]
    }
   ],
   "source": [
    "# Podział na dane treningowe i testowe\n",
    "X_train, X_test, y_train, y_test = train_test_split(X.compute(), y.compute(), test_size=0.2, random_state=42)\n",
    "\n",
    "# Sprawdzamy rozmiary\n",
    "print(f\"Treningowy X: {X_train.shape}, Testowy X: {X_test.shape}\")"
   ]
  },
  {
   "cell_type": "code",
   "execution_count": 8,
   "metadata": {},
   "outputs": [],
   "source": [
    "# Konwersja do formatu DMatrix (wymaga tego XGBoost)\n",
    "dtrain = DMatrix(X_train, label=y_train)"
   ]
  },
  {
   "cell_type": "code",
   "execution_count": 9,
   "metadata": {},
   "outputs": [],
   "source": [
    "# Parametry dla modelu XGBoost\n",
    "param = {\n",
    "    'objective': 'reg:squarederror',\n",
    "    'eval_metric': 'mae',\n",
    "    'max_depth': 5,\n",
    "    'learning_rate': 0.1,\n",
    "    'random_state': 42\n",
    "}"
   ]
  },
  {
   "cell_type": "code",
   "execution_count": 10,
   "metadata": {},
   "outputs": [
    {
     "name": "stdout",
     "output_type": "stream",
     "text": [
      "Średni MAE z walidacji krzyżowej: 0.9930281398897718\n"
     ]
    }
   ],
   "source": [
    "# Walidacja krzyżowa XGBoost (5-fold)\n",
    "cv_results = cv(param, dtrain, num_boost_round=100, nfold=5, seed=42, stratified=False)\n",
    "\n",
    "# Średni MAE z wyników walidacji krzyżowej\n",
    "print(f\"Średni MAE z walidacji krzyżowej: {cv_results['test-mae-mean'].iloc[-1]}\")"
   ]
  },
  {
   "cell_type": "code",
   "execution_count": 11,
   "metadata": {},
   "outputs": [],
   "source": [
    "import warnings\n",
    "\n",
    "# Trening modelu XGBoost\n",
    "xgb_model = XGBRegressor(n_estimators=100, learning_rate=0.1, max_depth=5, random_state=42)\n",
    "xgb_model.fit(X_train, y_train)\n",
    "\n",
    "\n",
    "# Błąd wynika z niekompatybilności między wersjami scikit-learn (1.6 i wyższe) a XGBoost.\n",
    "# W scikit-learn 1.6 wprowadzono zmiany w API dotyczące tagów, co prowadzi do problemów z wywoływaniem metody `__sklearn_tags__`\n",
    "warnings.filterwarnings(\"ignore\")"
   ]
  },
  {
   "cell_type": "code",
   "execution_count": 12,
   "metadata": {},
   "outputs": [
    {
     "name": "stdout",
     "output_type": "stream",
     "text": [
      "Średni błąd bezwzględny: 0.9926718801262341\n",
      "Średni błąd kwadratowy (MSE): 2.541128157524811\n",
      "Pierwiastek z błędu kwadratowego (RMSE): 1.5940916402530976\n",
      "Współczynnik determinacji R2: 0.7389805449117535\n"
     ]
    }
   ],
   "source": [
    "# Przewidywanie i ocena\n",
    "xgb_predictions = xgb_model.predict(X_test)\n",
    "xgb_mae = mean_absolute_error(y_test, xgb_predictions)\n",
    "xgb_mse = mean_squared_error(y_test, xgb_predictions)\n",
    "xgb_rmse = np.sqrt(xgb_mse)\n",
    "xgb_r2 = r2_score(y_test, xgb_predictions)\n",
    "\n",
    "print(f\"Średni błąd bezwzględny: {xgb_mae}\")\n",
    "print(f\"Średni błąd kwadratowy (MSE): {xgb_mse}\")\n",
    "print(f\"Pierwiastek z błędu kwadratowego (RMSE): {xgb_rmse}\")\n",
    "print(f\"Współczynnik determinacji R2: {xgb_r2}\")"
   ]
  },
  {
   "cell_type": "code",
   "execution_count": 13,
   "metadata": {},
   "outputs": [],
   "source": [
    "# Sprawdź, czy folder 'models' istnieje, jeśli nie, to go utwórz\n",
    "os.makedirs('models', exist_ok=True)\n",
    "\n",
    "# Zapisz model do pliku\n",
    "with open('models/xgboost_regressor_model.pkl', 'wb') as f:\n",
    "    pickle.dump(xgb_model, f)"
   ]
  },
  {
   "cell_type": "code",
   "execution_count": 14,
   "metadata": {},
   "outputs": [],
   "source": [
    "# Zamykanie klastra po zakończeniu pracy\n",
    "client.close()\n",
    "cluster.close()"
   ]
  },
  {
   "cell_type": "code",
   "execution_count": 15,
   "metadata": {},
   "outputs": [
    {
     "name": "stdout",
     "output_type": "stream",
     "text": [
      "Liczba odrzuconych danych z dolnej strony: 27903\n",
      "Liczba odrzuconych danych z górnej strony: 27904\n",
      "Łączna liczba odrzuconych danych: 55807\n"
     ]
    },
    {
     "data": {
      "image/png": "[encoded data removed]",
      "text/plain": [
       "<Figure size 800x600 with 1 Axes>"
      ]
     },
     "metadata": {},
     "output_type": "display_data"
    }
   ],
   "source": [
    "# Błędy między rzeczywistymi i przewidywanymi wartościami\n",
    "errors = y_test - xgb_predictions\n",
    "\n",
    "# Sortowanie błędów\n",
    "sorted_errors = np.sort(errors)\n",
    "\n",
    "# Odrzucenie 1% skrajnych danych (z obu stron)\n",
    "lower_bound = int(0.01 * len(sorted_errors))\n",
    "upper_bound = int(0.99 * len(sorted_errors))\n",
    "\n",
    "# Liczenie liczby odrzuconych danych\n",
    "num_rejected_lower = lower_bound\n",
    "num_rejected_upper = len(sorted_errors) - upper_bound\n",
    "\n",
    "# Wybór danych bez skrajnych 1% (z obu stron)\n",
    "filtered_errors = sorted_errors[lower_bound:upper_bound]\n",
    "\n",
    "# Wypisanie liczby odrzuconych danych\n",
    "print(f\"Liczba odrzuconych danych z dolnej strony: {num_rejected_lower}\")\n",
    "print(f\"Liczba odrzuconych danych z górnej strony: {num_rejected_upper}\")\n",
    "print(f\"Łączna liczba odrzuconych danych: {num_rejected_lower + num_rejected_upper}\")\n",
    "\n",
    "# Tworzymy histogram\n",
    "plt.figure(figsize=(8, 6))\n",
    "plt.hist(filtered_errors, bins=50, edgecolor='black', alpha=0.7, color='orange')\n",
    "plt.title(\"Histogram błędów (Rzeczywiste - Przewidywane) - Po odrzuceniu 1% skrajnych danych\")\n",
    "plt.xlabel(\"Błąd\")\n",
    "plt.ylabel(\"Częstotliwość\")\n",
    "plt.show()"
   ]
  },
  {
   "cell_type": "markdown",
   "metadata": {},
   "source": [
    "# Podsumowanie\n",
    "\n",
    "1. Dla próbki danych 1% (Czas treningu 0.1s)\n",
    "\n",
    " - Średni MAE (walidacja krzyżowa): 0.9968091360516178 (Czas: 1.4s)\n",
    " - Średni błąd bezwzględny: 1.0022649590896942\n",
    " - Średni błąd kwadratowy (MSE): 3.8790504431135253\n",
    " - Pierwiastek z błędu kwadratowego (RMSE): 1.969530513374577\n",
    " - Współczynnik determinacji R2: 0.6850839334689449\n",
    "\n",
    "2. Dla próbki danych 100% (Czas treningu: 28.3s)\n",
    " - Średni MAE z walidacji krzyżowej: 0.9909828541932157 (Czas: 3m 30s)\n",
    " - Średni błąd bezwzględny: 0.9911756299463939\n",
    " - Średni błąd kwadratowy (MSE): 3.5132197874381417\n",
    " - Pierwiastek z błędu kwadratowego (RMSE): 1.8743585002443213\n",
    " - Współczynnik determinacji R2: 0.7058916572819991"
   ]
  }
 ],
 "metadata": {
  "kernelspec": {
   "display_name": "Python 3",
   "language": "python",
   "name": "python3"
  },
  "language_info": {
   "codemirror_mode": {
    "name": "ipython",
    "version": 3
   },
   "file_extension": ".py",
   "mimetype": "text/x-python",
   "name": "python",
   "nbconvert_exporter": "python",
   "pygments_lexer": "ipython3",
   "version": "3.11.9"
  }
 },
 "nbformat": 4,
 "nbformat_minor": 2
}
